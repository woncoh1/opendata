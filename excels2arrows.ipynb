{
  "nbformat": 4,
  "nbformat_minor": 0,
  "metadata": {
    "colab": {
      "provenance": [],
      "toc_visible": true,
      "authorship_tag": "ABX9TyPWLtzL+VgC7eiar/p7xjbG",
      "include_colab_link": true
    },
    "kernelspec": {
      "name": "python3",
      "display_name": "Python 3"
    },
    "language_info": {
      "name": "python"
    }
  },
  "cells": [
    {
      "cell_type": "markdown",
      "metadata": {
        "id": "view-in-github",
        "colab_type": "text"
      },
      "source": [
        "<a href=\"https://colab.research.google.com/github/woncoh1/opendata/blob/main/excels2arrows.ipynb\" target=\"_parent\"><img src=\"https://colab.research.google.com/assets/colab-badge.svg\" alt=\"Open In Colab\"/></a>"
      ]
    },
    {
      "cell_type": "markdown",
      "source": [
        "# Import libraries"
      ],
      "metadata": {
        "id": "m6yHDTFpnDdc"
      }
    },
    {
      "cell_type": "code",
      "source": [
        "import ast\n",
        "import os\n",
        "import re\n",
        "import statistics\n",
        "from toolz import curry\n",
        "from typing import Dict, Union\n",
        "\n",
        "import pandas as pd\n",
        "import ipywidgets as widgets\n",
        "import ipywidgets as widgets\n",
        "from IPython.display import clear_output"
      ],
      "metadata": {
        "id": "Q090-OS1jf2z"
      },
      "execution_count": null,
      "outputs": []
    },
    {
      "cell_type": "markdown",
      "source": [
        "Colab-specific imports:"
      ],
      "metadata": {
        "id": "Onk54S14GoyE"
      }
    },
    {
      "cell_type": "code",
      "source": [
        "from google.colab import auth, data_table\n",
        "from google.auth import default\n",
        "from pydrive.auth import GoogleAuth\n",
        "from pydrive.drive import GoogleDrive, GoogleDriveFile\n",
        "from oauth2client.client import GoogleCredentials"
      ],
      "metadata": {
        "id": "cTJWJ_QZjdVr"
      },
      "execution_count": null,
      "outputs": []
    },
    {
      "cell_type": "markdown",
      "source": [
        "# Define constants"
      ],
      "metadata": {
        "id": "POvHY1iUnWr9"
      }
    },
    {
      "cell_type": "code",
      "source": [
        "# Google Drive folder ID\n",
        "SOURCE_FOLDER_ID = ''\n",
        "TARGET_FOLDER_ID = ''"
      ],
      "metadata": {
        "id": "miM5wkAZjnLx"
      },
      "execution_count": null,
      "outputs": []
    },
    {
      "cell_type": "markdown",
      "source": [
        "# Define functions"
      ],
      "metadata": {
        "id": "ApBoluIfnaLy"
      }
    },
    {
      "cell_type": "code",
      "source": [
        "def list_files(\n",
        "    dir: str,\n",
        ") -> Dict[str, GoogleDriveFile]:\n",
        "    \"\"\"Get all files from a Google Drive directory.\"\"\"\n",
        "    query = {'q': f\"parents='{dir}' and trashed=false\"}\n",
        "    files = drive.ListFile(query).GetList()\n",
        "    return {\n",
        "        gdf['title']: gdf\n",
        "        for gdf in files\n",
        "    }"
      ],
      "metadata": {
        "id": "lb3e4GRXjZII"
      },
      "execution_count": null,
      "outputs": []
    },
    {
      "cell_type": "code",
      "execution_count": null,
      "metadata": {
        "id": "udQevuVgjRTt"
      },
      "outputs": [],
      "source": [
        "def import_excel(\n",
        "    gdf: GoogleDriveFile,\n",
        "    sheet_name=0,\n",
        "    header=0,\n",
        "    names=None,\n",
        "    dtype=None,\n",
        ") -> Union[dict, pd.DataFrame]:\n",
        "    \"\"\"Import an Excel file from disk to memory.\"\"\"\n",
        "    filename = gdf['title']\n",
        "    # Google Drive -> Colab disk\n",
        "    gdf.GetContentFile(filename)\n",
        "    # Colab disk -> Colab RAM\n",
        "    dict_or_df = pd.read_excel(\n",
        "        filename,\n",
        "        sheet_name=sheet_name,\n",
        "        header=header,\n",
        "        names=names,\n",
        "        dtype=dtype,\n",
        "    )\n",
        "    # Clean up Colab disk\n",
        "    os.system(f'rm {filename}')\n",
        "    return dict_or_df"
      ]
    },
    {
      "cell_type": "code",
      "source": [
        "def import_arrow(\n",
        "    gdf: GoogleDriveFile,\n",
        ") -> pd.DataFrame:\n",
        "    \"\"\"Import an Arrow file from disk to memory.\"\"\"\n",
        "    filename = gdf['title']\n",
        "    # Google Drive -> Colab disk\n",
        "    gdf.GetContentFile(filename)\n",
        "    # Colab disk -> Colab RAM\n",
        "    df = pd.read_feather(filename)\n",
        "    # Clean up Colab disk\n",
        "    os.system(f'rm {filename}')\n",
        "    return df"
      ],
      "metadata": {
        "id": "UXFlO95elO8h"
      },
      "execution_count": null,
      "outputs": []
    },
    {
      "cell_type": "code",
      "source": [
        "def export_dataframe(\n",
        "    df: pd.DataFrame,\n",
        "    folder_id: str,\n",
        "    filename: str,\n",
        ") -> None:\n",
        "    \"\"\"Export an Arrow or Excel file from disk to memory.\"\"\"\n",
        "    extension = filename.split('.', 1)[-1]\n",
        "    # Colab RAM -> Colab disk\n",
        "    # https://arrow.apache.org/docs/r/reference/write_feather.html\n",
        "    df.to_feather(filename) if extension == 'arrow' else df.to_csv(filename)\n",
        "    # Colab disk -> Google Drive\n",
        "    uploaded = drive.CreateFile({\n",
        "        'title': filename,\n",
        "        'parents': [{\n",
        "            'id': folder_id,\n",
        "            'kind': 'drive#parentReference',\n",
        "            'isRoot': 'False',\n",
        "        }],\n",
        "    })\n",
        "    uploaded.SetContentFile(filename)\n",
        "    uploaded.Upload()"
      ],
      "metadata": {
        "id": "IDGXFGn6kZn3"
      },
      "execution_count": null,
      "outputs": []
    },
    {
      "cell_type": "code",
      "source": [
        "def export_filename(import_filename: str):\n",
        "    \"\"\"Get filename of the arrow file to export.\"\"\"\n",
        "    return import_filename.split('.', 1)[0] + '.arrow'"
      ],
      "metadata": {
        "id": "e7dq-M0svVv8"
      },
      "execution_count": null,
      "outputs": []
    },
    {
      "cell_type": "markdown",
      "source": [
        "# Set Options"
      ],
      "metadata": {
        "id": "_ueD4QJb3u9G"
      }
    },
    {
      "cell_type": "code",
      "source": [
        "pd.set_option('display.precision', 2)"
      ],
      "metadata": {
        "id": "mWHS56Hw3wi-"
      },
      "execution_count": null,
      "outputs": []
    },
    {
      "cell_type": "markdown",
      "source": [
        "# Authenticate drive"
      ],
      "metadata": {
        "id": "FgYfTByvnebg"
      }
    },
    {
      "cell_type": "code",
      "source": [
        "# Google Colab\n",
        "auth.authenticate_user()\n",
        "# Google Drive\n",
        "gauth = GoogleAuth()\n",
        "gauth.credentials = GoogleCredentials.get_application_default()\n",
        "drive = GoogleDrive(gauth)"
      ],
      "metadata": {
        "id": "zk0M36jKjjzF"
      },
      "execution_count": null,
      "outputs": []
    },
    {
      "cell_type": "markdown",
      "source": [
        "# Convert Excel to Arrow\n",
        "- Import Excel file as dataframe\n",
        "- Export dataframe as arrow file"
      ],
      "metadata": {
        "id": "-h6gduyvngLU"
      }
    },
    {
      "cell_type": "code",
      "source": [
        "for title, gdf in list_files(SOURCE_FOLDER_ID).items():\n",
        "    export_dataframe(\n",
        "        import_excel(gdf, header=0, dtype=object),\n",
        "        TARGET_FOLDER_ID,\n",
        "        export_filename(title),\n",
        "    )"
      ],
      "metadata": {
        "id": "eBVafsQNzhOW"
      },
      "execution_count": null,
      "outputs": []
    },
    {
      "cell_type": "markdown",
      "source": [
        "# Inspect Arrow"
      ],
      "metadata": {
        "id": "ZTWiP-INnpJ9"
      }
    },
    {
      "cell_type": "code",
      "source": [
        "def on_change(change):\n",
        "    display_head()\n",
        "\n",
        "def display_head():\n",
        "    clear_output(wait=True)\n",
        "    display(w)\n",
        "    df = import_arrow(output_files[w.value])\n",
        "    display(df)\n",
        "    display(df.info())\n",
        "    display(df.describe())\n",
        "\n",
        "output_files: dict = list_files(TARGET_FOLDER_ID)\n",
        "\n",
        "w = widgets.Dropdown(\n",
        "    options=sorted(list(output_files)),\n",
        "    description='Table:',\n",
        ")\n",
        "\n",
        "w.observe(on_change)\n",
        "\n",
        "display_head()"
      ],
      "metadata": {
        "id": "3eunfpW_1aUN"
      },
      "execution_count": null,
      "outputs": []
    },
    {
      "cell_type": "code",
      "source": [],
      "metadata": {
        "id": "YjBfT1gm3x1H"
      },
      "execution_count": null,
      "outputs": []
    }
  ]
}